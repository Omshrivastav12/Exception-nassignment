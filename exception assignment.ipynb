{
 "cells": [
  {
   "cell_type": "code",
   "execution_count": null,
   "id": "e6b20b0a-2dec-4161-9dbf-a3a5e2b0f452",
   "metadata": {},
   "outputs": [],
   "source": [
    "#Q1 Exception and syntax error\n",
    "#Exception is like nfor example if we are calling any file name which is not exicting till date then its exception\n",
    "#on the other hand syntax error is either we forget semicolon, comma, or indintation etc... or we called anything which is unrecognizable to python language"
   ]
  },
  {
   "cell_type": "code",
   "execution_count": 16,
   "id": "38652e84-bcaa-4c6c-8b73-d831f1fcd885",
   "metadata": {},
   "outputs": [
    {
     "ename": "FileNotFoundError",
     "evalue": "[Errno 2] No such file or directory: 'Om.txt'",
     "output_type": "error",
     "traceback": [
      "\u001b[0;31m---------------------------------------------------------------------------\u001b[0m",
      "\u001b[0;31mFileNotFoundError\u001b[0m                         Traceback (most recent call last)",
      "Cell \u001b[0;32mIn[16], line 2\u001b[0m\n\u001b[1;32m      1\u001b[0m \u001b[38;5;66;03m#Q2 if exception is not handeled the code below that perticular exception is not being exicative e.g.,\u001b[39;00m\n\u001b[0;32m----> 2\u001b[0m f \u001b[38;5;241m=\u001b[39m \u001b[38;5;28;43mopen\u001b[39;49m\u001b[43m(\u001b[49m\u001b[38;5;124;43m\"\u001b[39;49m\u001b[38;5;124;43mOm.txt\u001b[39;49m\u001b[38;5;124;43m\"\u001b[39;49m\u001b[43m,\u001b[49m\u001b[38;5;124;43m'\u001b[39;49m\u001b[38;5;124;43mr\u001b[39;49m\u001b[38;5;124;43m'\u001b[39;49m\u001b[43m)\u001b[49m\n\u001b[1;32m      3\u001b[0m \u001b[38;5;28mprint\u001b[39m(\u001b[38;5;124m\"\u001b[39m\u001b[38;5;124mOm shrivastav\u001b[39m\u001b[38;5;124m\"\u001b[39m)\n",
      "File \u001b[0;32m/opt/conda/lib/python3.10/site-packages/IPython/core/interactiveshell.py:282\u001b[0m, in \u001b[0;36m_modified_open\u001b[0;34m(file, *args, **kwargs)\u001b[0m\n\u001b[1;32m    275\u001b[0m \u001b[38;5;28;01mif\u001b[39;00m file \u001b[38;5;129;01min\u001b[39;00m {\u001b[38;5;241m0\u001b[39m, \u001b[38;5;241m1\u001b[39m, \u001b[38;5;241m2\u001b[39m}:\n\u001b[1;32m    276\u001b[0m     \u001b[38;5;28;01mraise\u001b[39;00m \u001b[38;5;167;01mValueError\u001b[39;00m(\n\u001b[1;32m    277\u001b[0m         \u001b[38;5;124mf\u001b[39m\u001b[38;5;124m\"\u001b[39m\u001b[38;5;124mIPython won\u001b[39m\u001b[38;5;124m'\u001b[39m\u001b[38;5;124mt let you open fd=\u001b[39m\u001b[38;5;132;01m{\u001b[39;00mfile\u001b[38;5;132;01m}\u001b[39;00m\u001b[38;5;124m by default \u001b[39m\u001b[38;5;124m\"\u001b[39m\n\u001b[1;32m    278\u001b[0m         \u001b[38;5;124m\"\u001b[39m\u001b[38;5;124mas it is likely to crash IPython. If you know what you are doing, \u001b[39m\u001b[38;5;124m\"\u001b[39m\n\u001b[1;32m    279\u001b[0m         \u001b[38;5;124m\"\u001b[39m\u001b[38;5;124myou can use builtins\u001b[39m\u001b[38;5;124m'\u001b[39m\u001b[38;5;124m open.\u001b[39m\u001b[38;5;124m\"\u001b[39m\n\u001b[1;32m    280\u001b[0m     )\n\u001b[0;32m--> 282\u001b[0m \u001b[38;5;28;01mreturn\u001b[39;00m \u001b[43mio_open\u001b[49m\u001b[43m(\u001b[49m\u001b[43mfile\u001b[49m\u001b[43m,\u001b[49m\u001b[43m \u001b[49m\u001b[38;5;241;43m*\u001b[39;49m\u001b[43margs\u001b[49m\u001b[43m,\u001b[49m\u001b[43m \u001b[49m\u001b[38;5;241;43m*\u001b[39;49m\u001b[38;5;241;43m*\u001b[39;49m\u001b[43mkwargs\u001b[49m\u001b[43m)\u001b[49m\n",
      "\u001b[0;31mFileNotFoundError\u001b[0m: [Errno 2] No such file or directory: 'Om.txt'"
     ]
    }
   ],
   "source": [
    "#Q2 if exception is not handeled the code below that perticular exception is not being exicative e.g.,\n",
    "f = open(\"Om.txt\",'r')\n",
    "print(\"Om shrivastav\")"
   ]
  },
  {
   "cell_type": "code",
   "execution_count": 19,
   "id": "74555f4f-6e1a-4e98-9321-d06a6862cd52",
   "metadata": {},
   "outputs": [
    {
     "name": "stdout",
     "output_type": "stream",
     "text": [
      "Exception is handled [Errno 2] No such file or directory: 'open.txt'\n"
     ]
    }
   ],
   "source": [
    "#by handeling exception we run all code as follows \n",
    "try:\n",
    "    f = open(\"open.txt\",\"r\")\n",
    "except Exception as e:\n",
    "    print(\"Exception is handled\", e)"
   ]
  },
  {
   "cell_type": "code",
   "execution_count": 20,
   "id": "b89a34d2-f76f-436e-aac5-3d3bc27caeb4",
   "metadata": {},
   "outputs": [],
   "source": [
    "#Q3 try and except these statements are used to handle exception example as 2nd no questions second portion"
   ]
  },
  {
   "cell_type": "code",
   "execution_count": 22,
   "id": "84d25534-d38e-4f37-8333-d083c516cf02",
   "metadata": {},
   "outputs": [
    {
     "name": "stdin",
     "output_type": "stream",
     "text": [
      "Enter age 2\n"
     ]
    },
    {
     "name": "stdout",
     "output_type": "stream",
     "text": [
      "2\n",
      "it'll appear in output inj any case\n"
     ]
    }
   ],
   "source": [
    "#Q4\n",
    "class abd(Exception):\n",
    "    def __init__(self, msg):\n",
    "        self.msg = msg\n",
    "def fun(age):\n",
    "    if age < 0:\n",
    "        raise abd(\"Invalid age ...!!\")\n",
    "    elif age > 200:\n",
    "        raise abd(\"Too much\")\n",
    "    else:\n",
    "        print(age)\n",
    "\n",
    "try:\n",
    "    age = int(input(\"Enter age\"))\n",
    "    fun(age)\n",
    "except abd as e:\n",
    "    print(e)\n",
    "finally:\n",
    "    print(\"it'll appear in output inj any case\")"
   ]
  },
  {
   "cell_type": "code",
   "execution_count": null,
   "id": "2cfff48a-7ca2-4ab0-9fc0-585ba59f2534",
   "metadata": {},
   "outputs": [],
   "source": [
    "#Q5 custom exception are the exceptiuon which are not pre defined already that are exceptions which desired by we \n",
    "#example \n",
    "#Q6 same example as Q4"
   ]
  }
 ],
 "metadata": {
  "kernelspec": {
   "display_name": "Python 3 (ipykernel)",
   "language": "python",
   "name": "python3"
  },
  "language_info": {
   "codemirror_mode": {
    "name": "ipython",
    "version": 3
   },
   "file_extension": ".py",
   "mimetype": "text/x-python",
   "name": "python",
   "nbconvert_exporter": "python",
   "pygments_lexer": "ipython3",
   "version": "3.10.8"
  }
 },
 "nbformat": 4,
 "nbformat_minor": 5
}
